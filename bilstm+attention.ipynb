{
 "cells": [
  {
   "cell_type": "markdown",
   "metadata": {},
   "source": [
    "# Simple Identify Sentiments problem\n",
    "\n",
    "<img src=\"imgs/logo.jpg\" width=80% style=\"float: center;\"></img>\n",
    "I simplify details of this tutorial, more details are in the last tutorial \"bilstm+glove\"\n",
    "\n",
    "__*In this challenge, you are provided with tweet data to predict sentiment on electronic products of netizens.*__\n",
    "\n",
    "Details of the problem statement and dataset could be refer to this page:  [here](https://datahack.analyticsvidhya.com/contest/linguipedia-codefest-natural-language-processing-1/)"
   ]
  },
  {
   "cell_type": "markdown",
   "metadata": {},
   "source": [
    "If any reference is missing here, please tell me to update. \n",
    "\n",
    "__*References*__\n",
    "\n",
    "- [deep.ai cources](https://www.coursera.org/specializations/deep-learning?)\n",
    "- [NLP at IEST 2018: BiLSTM-Attention and LSTM-Attention via Soft\n",
    "Voting in Emotion Classification](https://www.aclweb.org/anthology/W18-6226)\n",
    "- [FEED-FORWARD NETWORKS WITH ATTENTION CAN\n",
    "SOLVE SOME LONG-TERM MEMORY PROBLEMS](https://colinraffel.com/publications/iclr2016feed.pdf)\n",
    "- [Overfitting in Machine Learning: What It Is and How to Prevent It](https://elitedatascience.com/overfitting-in-machine-learning#how-to-detect)"
   ]
  },
  {
   "cell_type": "code",
   "execution_count": 1,
   "metadata": {},
   "outputs": [],
   "source": [
    "# Libraries used in Loading and catching a glimpse of dataset\n",
    "import tensorflow as tf\n",
    "\n",
    "import re\n",
    "import json\n",
    "import pandas as pd \n",
    "pd.set_option(\"display.max_colwidth\", 150)\n",
    "import numpy as np \n",
    "import matplotlib.pyplot as plt\n",
    "%matplotlib inline\n",
    "#Provided you are running IPython, \n",
    "#the %matplotlib inline will make your plot outputs appear and be stored within the notebook.\n",
    "\n",
    "import string\n",
    "import warnings\n",
    "warnings.filterwarnings(\"ignore\", category=DeprecationWarning)\n"
   ]
  },
  {
   "cell_type": "code",
   "execution_count": 2,
   "metadata": {},
   "outputs": [
    {
     "name": "stdout",
     "output_type": "stream",
     "text": [
      "1.14.0\n"
     ]
    }
   ],
   "source": [
    "# Libraries used in part of processing tweets\n",
    "from tensorflow.keras.preprocessing.text import Tokenizer\n",
    "from tensorflow.keras.preprocessing.sequence import pad_sequences\n",
    "#tf.reset_default_graph\n",
    "print(tf.__version__)"
   ]
  },
  {
   "cell_type": "code",
   "execution_count": 3,
   "metadata": {},
   "outputs": [],
   "source": [
    "# Libraries used in modeling\n",
    "from tensorflow.keras.layers import Bidirectional, GRU, Embedding, Dense, Dropout, Dot, Input\n",
    "from tensorflow.keras.models import Sequential, Model\n",
    "from tensorflow.keras.layers import Activation, Lambda, Flatten,Layer\n",
    "\n",
    "import matplotlib.pyplot as plt"
   ]
  },
  {
   "cell_type": "markdown",
   "metadata": {},
   "source": [
    "### Global arguments\n",
    "\n",
    "- `VOCAB_SIZE`: We take 10,000 word in our vocaburary, and add one more for the word 'unknown'. If we use LSTM/GRU, it will ignore the padding part. And for the vector of UNKNOWN, we can not just set 0 like the padding because UNKNOWN also contains some information.\n",
    "\n",
    "https://github.com/keras-team/keras/issues/9637"
   ]
  },
  {
   "cell_type": "code",
   "execution_count": 4,
   "metadata": {},
   "outputs": [],
   "source": [
    "DATA_PATH = 'dataset/train_2kmZucJ.csv'\n",
    "# this is the pre-trained word-embedding path, remember to replace it with your own path\n",
    "WV_PATH = 'pre_train_wordVec/glove.twitter/glove.twitter.27B.200d.txt'\n",
    "POS = 0\n",
    "NEG = 1\n",
    "VOCAB_SIZE = 10001\n",
    "MAXLEN = 80\n",
    "EMBED_DIM = 200\n",
    "REG_L2 = tf.keras.regularizers.l2(0.001)"
   ]
  },
  {
   "cell_type": "markdown",
   "metadata": {},
   "source": [
    "### Figure"
   ]
  },
  {
   "cell_type": "code",
   "execution_count": 5,
   "metadata": {},
   "outputs": [],
   "source": [
    "#plot the graphs for visualizing the training variation\n",
    "def plot_graphs(history, string):\n",
    "  plt.plot(history.history[string])\n",
    "  plt.plot(history.history['val_'+string])\n",
    "  plt.xlabel(\"Epochs\")\n",
    "  plt.ylabel(string)\n",
    "  plt.legend([string, 'val_'+string])\n",
    "  plt.show()"
   ]
  },
  {
   "cell_type": "markdown",
   "metadata": {},
   "source": [
    "# 1. Loading and catching a glimpse of dataset\n",
    "\n",
    "Most profane and vulgar terms in the tweets have been replaced with “$&@*#”. \n",
    "However, please note that the dataset still might contain text that may be considered profane, vulgar, or offensive."
   ]
  },
  {
   "cell_type": "code",
   "execution_count": 6,
   "metadata": {},
   "outputs": [
    {
     "data": {
      "text/plain": [
       "(7920, 3)"
      ]
     },
     "execution_count": 6,
     "metadata": {},
     "output_type": "execute_result"
    }
   ],
   "source": [
    "train  = pd.read_csv(DATA_PATH)\n",
    "train.shape"
   ]
  },
  {
   "cell_type": "code",
   "execution_count": 7,
   "metadata": {},
   "outputs": [
    {
     "data": {
      "text/html": [
       "<div>\n",
       "<style scoped>\n",
       "    .dataframe tbody tr th:only-of-type {\n",
       "        vertical-align: middle;\n",
       "    }\n",
       "\n",
       "    .dataframe tbody tr th {\n",
       "        vertical-align: top;\n",
       "    }\n",
       "\n",
       "    .dataframe thead th {\n",
       "        text-align: right;\n",
       "    }\n",
       "</style>\n",
       "<table border=\"1\" class=\"dataframe\">\n",
       "  <thead>\n",
       "    <tr style=\"text-align: right;\">\n",
       "      <th></th>\n",
       "      <th>id</th>\n",
       "      <th>label</th>\n",
       "      <th>tweet</th>\n",
       "    </tr>\n",
       "  </thead>\n",
       "  <tbody>\n",
       "    <tr>\n",
       "      <th>0</th>\n",
       "      <td>1</td>\n",
       "      <td>0</td>\n",
       "      <td>#fingerprint #Pregnancy Test https://goo.gl/h1MfQV #android #apps #beautiful #cute #health #igers #iphoneonly #iphonesia #iphone</td>\n",
       "    </tr>\n",
       "    <tr>\n",
       "      <th>1</th>\n",
       "      <td>2</td>\n",
       "      <td>0</td>\n",
       "      <td>Finally a transparant silicon case ^^ Thanks to my uncle :) #yay #Sony #Xperia #S #sonyexperias… http://instagram.com/p/YGEt5JC6JM/</td>\n",
       "    </tr>\n",
       "    <tr>\n",
       "      <th>2</th>\n",
       "      <td>3</td>\n",
       "      <td>0</td>\n",
       "      <td>We love this! Would you go? #talk #makememories #unplug #relax #iphone #smartphone #wifi #connect... http://fb.me/6N3LsUpCu</td>\n",
       "    </tr>\n",
       "    <tr>\n",
       "      <th>3</th>\n",
       "      <td>4</td>\n",
       "      <td>0</td>\n",
       "      <td>I'm wired I know I'm George I was made that way ;) #iphone #cute #daventry #home http://instagr.am/p/Li_5_ujS4k/</td>\n",
       "    </tr>\n",
       "    <tr>\n",
       "      <th>6</th>\n",
       "      <td>7</td>\n",
       "      <td>0</td>\n",
       "      <td>Happy for us .. #instapic #instadaily #us #sony #xperia #xperiaZ https://instagram.com/p/z9qGfWlvj7/</td>\n",
       "    </tr>\n",
       "  </tbody>\n",
       "</table>\n",
       "</div>"
      ],
      "text/plain": [
       "   id  label  \\\n",
       "0   1      0   \n",
       "1   2      0   \n",
       "2   3      0   \n",
       "3   4      0   \n",
       "6   7      0   \n",
       "\n",
       "                                                                                                                                 tweet  \n",
       "0     #fingerprint #Pregnancy Test https://goo.gl/h1MfQV #android #apps #beautiful #cute #health #igers #iphoneonly #iphonesia #iphone  \n",
       "1  Finally a transparant silicon case ^^ Thanks to my uncle :) #yay #Sony #Xperia #S #sonyexperias… http://instagram.com/p/YGEt5JC6JM/  \n",
       "2          We love this! Would you go? #talk #makememories #unplug #relax #iphone #smartphone #wifi #connect... http://fb.me/6N3LsUpCu  \n",
       "3                     I'm wired I know I'm George I was made that way ;) #iphone #cute #daventry #home http://instagr.am/p/Li_5_ujS4k/  \n",
       "6                                 Happy for us .. #instapic #instadaily #us #sony #xperia #xperiaZ https://instagram.com/p/z9qGfWlvj7/  "
      ]
     },
     "execution_count": 7,
     "metadata": {},
     "output_type": "execute_result"
    }
   ],
   "source": [
    "# list top 5 positive tweets in dataset\n",
    "train[train['label'] == 0].head(5)"
   ]
  },
  {
   "cell_type": "code",
   "execution_count": 8,
   "metadata": {},
   "outputs": [
    {
     "data": {
      "text/html": [
       "<div>\n",
       "<style scoped>\n",
       "    .dataframe tbody tr th:only-of-type {\n",
       "        vertical-align: middle;\n",
       "    }\n",
       "\n",
       "    .dataframe tbody tr th {\n",
       "        vertical-align: top;\n",
       "    }\n",
       "\n",
       "    .dataframe thead th {\n",
       "        text-align: right;\n",
       "    }\n",
       "</style>\n",
       "<table border=\"1\" class=\"dataframe\">\n",
       "  <thead>\n",
       "    <tr style=\"text-align: right;\">\n",
       "      <th></th>\n",
       "      <th>id</th>\n",
       "      <th>label</th>\n",
       "      <th>tweet</th>\n",
       "    </tr>\n",
       "  </thead>\n",
       "  <tbody>\n",
       "    <tr>\n",
       "      <th>4</th>\n",
       "      <td>5</td>\n",
       "      <td>1</td>\n",
       "      <td>What amazing service! Apple won't even talk to me about a question I have unless I pay them $19.95 for their stupid support!</td>\n",
       "    </tr>\n",
       "    <tr>\n",
       "      <th>5</th>\n",
       "      <td>6</td>\n",
       "      <td>1</td>\n",
       "      <td>iPhone software update fucked up my phone big time Stupid iPhones</td>\n",
       "    </tr>\n",
       "    <tr>\n",
       "      <th>10</th>\n",
       "      <td>11</td>\n",
       "      <td>1</td>\n",
       "      <td>hey #apple when you make a new ipod dont make it a new color or .2inches thinner make it not crash every five fuckin minite.</td>\n",
       "    </tr>\n",
       "    <tr>\n",
       "      <th>11</th>\n",
       "      <td>12</td>\n",
       "      <td>1</td>\n",
       "      <td>Ha! Not heavy machinery but it does what I need it to. @Apple really dropped the ball with that design. #drinkyourhaterade</td>\n",
       "    </tr>\n",
       "    <tr>\n",
       "      <th>12</th>\n",
       "      <td>13</td>\n",
       "      <td>1</td>\n",
       "      <td>Contemplating giving in to the iPhone bandwagon simply because #Cellcom has no new Androids #depressing #IDontWantTo</td>\n",
       "    </tr>\n",
       "  </tbody>\n",
       "</table>\n",
       "</div>"
      ],
      "text/plain": [
       "    id  label  \\\n",
       "4    5      1   \n",
       "5    6      1   \n",
       "10  11      1   \n",
       "11  12      1   \n",
       "12  13      1   \n",
       "\n",
       "                                                                                                                           tweet  \n",
       "4   What amazing service! Apple won't even talk to me about a question I have unless I pay them $19.95 for their stupid support!  \n",
       "5                                                              iPhone software update fucked up my phone big time Stupid iPhones  \n",
       "10  hey #apple when you make a new ipod dont make it a new color or .2inches thinner make it not crash every five fuckin minite.  \n",
       "11    Ha! Not heavy machinery but it does what I need it to. @Apple really dropped the ball with that design. #drinkyourhaterade  \n",
       "12          Contemplating giving in to the iPhone bandwagon simply because #Cellcom has no new Androids #depressing #IDontWantTo  "
      ]
     },
     "execution_count": 8,
     "metadata": {},
     "output_type": "execute_result"
    }
   ],
   "source": [
    "# list top 5 negetive tweets in dataset\n",
    "train[train['label'] == 1].head(5)"
   ]
  },
  {
   "cell_type": "markdown",
   "metadata": {},
   "source": [
    "# 2. Data processing\n",
    "## 2.1 Data cleaning\n",
    "\n",
    "remove the redundant/helpless infors"
   ]
  },
  {
   "cell_type": "code",
   "execution_count": 9,
   "metadata": {},
   "outputs": [],
   "source": [
    "def cleaning(tweets,isSample_predict):\n",
    "    if isSample_predict:\n",
    "        tweets = re.sub(r'http\\S+', '', tweets)\n",
    "        tweets = re.sub(r'@[A-Za-z0-9]+','',tweets)\n",
    "        tweets = tweets.replace(\"[0-9]\", \" \")\n",
    "        tweets = re.sub(r'#[A-Za-z0-9]+','',tweets)\n",
    "        tweets = re.sub(r\"[-()\\\"#/@$&;:<>{}`+=~|.!?,]\", \"\", tweets)\n",
    "    else:\n",
    "        # remove URL\n",
    "        tweets = tweets.apply(lambda x: re.sub(r'http\\S+', '', x))\n",
    "        # remove @user\n",
    "        tweets = tweets.apply(lambda x: re.sub(r'@[A-Za-z0-9]+','',x))\n",
    "        # remove numbers\n",
    "        tweets = tweets.str.replace(\"[0-9]\", \" \")\n",
    "        # remove whitespaces\n",
    "        tweets = tweets.apply(lambda x:' '.join(x.split()))\n",
    "        # remove hashtags\n",
    "        tweets = tweets.apply(lambda x: re.sub(r'#[A-Za-z0-9]+','',x))\n",
    "        # remove punctuation\n",
    "        tweets = tweets.apply(lambda x: ''.join(ch for ch in x if ch not in set(string.punctuation)))\n",
    "\n",
    "    return tweets "
   ]
  },
  {
   "cell_type": "code",
   "execution_count": 10,
   "metadata": {},
   "outputs": [],
   "source": [
    "train['tweet_clean'] = cleaning(train['tweet'],False)\n",
    "#train.head(5)"
   ]
  },
  {
   "cell_type": "markdown",
   "metadata": {},
   "source": [
    "## 2.2 dataset for Evalution the model\n",
    "because I don't have enough dataset to do the evalution, so I decide to shuffle the train dataset and take some of them to evaluate my model"
   ]
  },
  {
   "cell_type": "code",
   "execution_count": 11,
   "metadata": {},
   "outputs": [],
   "source": [
    "from sklearn.utils import shuffle\n",
    "\n",
    "shuf_data = shuffle(train)\n",
    "#shuf_data.head(5)"
   ]
  },
  {
   "cell_type": "markdown",
   "metadata": {},
   "source": [
    "we could compare first 5 eval_datas with the original train data shown as above\n",
    "\n",
    "then take about 3,000 lines used for evalution"
   ]
  },
  {
   "cell_type": "code",
   "execution_count": 12,
   "metadata": {},
   "outputs": [
    {
     "data": {
      "text/plain": [
       "((3000,), (3000,))"
      ]
     },
     "execution_count": 12,
     "metadata": {},
     "output_type": "execute_result"
    }
   ],
   "source": [
    "x_eval = shuf_data['tweet_clean'][:3000]\n",
    "y_eval = shuf_data['label'][:3000]\n",
    "x_eval.shape,y_eval.shape"
   ]
  },
  {
   "cell_type": "markdown",
   "metadata": {},
   "source": [
    "## 2.3 Tokenizer\n",
    "https://github.com/keras-team/keras/issues/9637"
   ]
  },
  {
   "cell_type": "code",
   "execution_count": 13,
   "metadata": {},
   "outputs": [],
   "source": [
    "# Create padding sequence with a fix length\n",
    "tokenizer = Tokenizer(num_words= VOCAB_SIZE,oov_token='UNK')\n",
    "def token_pad(sequences,isPad):\n",
    "    tokenizer.fit_on_texts(sequences)\n",
    "    sequences = tokenizer.texts_to_sequences(sequences)\n",
    "    \n",
    "    if isPad:\n",
    "        sequences = pad_sequences(sequences, maxlen= MAXLEN, padding='post')\n",
    "    return sequences"
   ]
  },
  {
   "cell_type": "code",
   "execution_count": 14,
   "metadata": {},
   "outputs": [],
   "source": [
    "seq_pad = token_pad(train['tweet_clean'],True)"
   ]
  },
  {
   "cell_type": "code",
   "execution_count": 15,
   "metadata": {},
   "outputs": [
    {
     "name": "stdout",
     "output_type": "stream",
     "text": [
      "[1047    0    0    0    0    0    0    0    0    0    0    0    0    0\n",
      "    0    0    0    0    0    0    0    0    0    0    0    0    0    0\n",
      "    0    0    0    0    0    0    0    0    0    0    0    0    0    0\n",
      "    0    0    0    0    0    0    0    0    0    0    0    0    0    0\n",
      "    0    0    0    0    0    0    0    0    0    0    0    0    0    0\n",
      "    0    0    0    0    0    0    0    0    0    0]\n",
      "[  68    7 3681 2447   88   93    5    2 1564    6    0    0    0    0\n",
      "    0    0    0    0    0    0    0    0    0    0    0    0    0    0\n",
      "    0    0    0    0    0    0    0    0    0    0    0    0    0    0\n",
      "    0    0    0    0    0    0    0    0    0    0    0    0    0    0\n",
      "    0    0    0    0    0    0    0    0    0    0    0    0    0    0\n",
      "    0    0    0    0    0    0    0    0    0    0]\n",
      "[ 60  27  21  82  10 107   0   0   0   0   0   0   0   0   0   0   0   0\n",
      "   0   0   0   0   0   0   0   0   0   0   0   0   0   0   0   0   0   0\n",
      "   0   0   0   0   0   0   0   0   0   0   0   0   0   0   0   0   0   0\n",
      "   0   0   0   0   0   0   0   0   0   0   0   0   0   0   0   0   0   0\n",
      "   0   0   0   0   0   0   0   0]\n",
      "[  40 2448    3  113   40 3682    3   87  162   34  218    0    0    0\n",
      "    0    0    0    0    0    0    0    0    0    0    0    0    0    0\n",
      "    0    0    0    0    0    0    0    0    0    0    0    0    0    0\n",
      "    0    0    0    0    0    0    0    0    0    0    0    0    0    0\n",
      "    0    0    0    0    0    0    0    0    0    0    0    0    0    0\n",
      "    0    0    0    0    0    0    0    0    0    0]\n",
      "[  65  112  261   20  132  119  678    5   18   75    7 2449    3   26\n",
      " 1897    3  321  135    9  160  182  278    0    0    0    0    0    0\n",
      "    0    0    0    0    0    0    0    0    0    0    0    0    0    0\n",
      "    0    0    0    0    0    0    0    0    0    0    0    0    0    0\n",
      "    0    0    0    0    0    0    0    0    0    0    0    0    0    0\n",
      "    0    0    0    0    0    0    0    0    0    0]\n"
     ]
    }
   ],
   "source": [
    "#listing 5 tweets after tokenization\n",
    "for i in range(5):\n",
    "    print(seq_pad[i])"
   ]
  },
  {
   "cell_type": "code",
   "execution_count": 16,
   "metadata": {},
   "outputs": [
    {
     "data": {
      "text/plain": [
       "(1, 'UNK')"
      ]
     },
     "execution_count": 16,
     "metadata": {},
     "output_type": "execute_result"
    }
   ],
   "source": [
    "tokenizer.word_index['UNK'],tokenizer.index_word[1]"
   ]
  },
  {
   "cell_type": "markdown",
   "metadata": {},
   "source": [
    "# 3. Modeling"
   ]
  },
  {
   "cell_type": "markdown",
   "metadata": {},
   "source": [
    "## BiGRU + glove + Attention\n",
    "\n",
    "### model draft\n",
    "![model3_with_atten](imgs/model_biGRU_atten.jpg)\n"
   ]
  },
  {
   "cell_type": "markdown",
   "metadata": {},
   "source": [
    "### attention layer mechanism\n",
    "\n",
    "Because I don't think that the previous output from the output layer will influence the next result, So here I caculate the attention by using 'FEED-FORWARD ATTENTION' from this paper [click](https://colinraffel.com/publications/iclr2016feed.pdf)\n",
    "\n",
    "<table>\n",
    "<td> \n",
    "<img src=\"imgs/feed-forward.JPG\" style=\"width:300;height:300px;\">\n",
    "</td> \n",
    "</table>\n",
    "<caption><center> Figure:Schematic of our proposed “feed-forward” attention mechanism</center></caption>\n",
    "\n",
    "Here are some properties of the model that you may notice: \n",
    "\n",
    "- There are one BiGURs in this model.The pre-attention Bi-GRU goes through $T$ time steps.\n",
    "\n",
    "- The Bi-GRU produces a hidden state ${h_t}$ from one time step to the next. Here the attention-based models compute a “context” vector ${c_t}$ as the weighted mean of the state sequence by\n",
    "$$context = \\sum_{t = 1}^{T} \\alpha_t h_t\\tag{1}$$\n",
    "\n",
    "- We use $h_t = [\\overrightarrow{h_t}; \\overleftarrow{h_t}]$ to represent the concatenation of the activations of both the forward-direction and backward-directions of the pre-attention Bi-GRU. \n",
    "\n",
    "- Uses a neural network with the activation `(tanh)`&`(relu)` to compute $e_t$, which is then passed through a softmax to compute $\\alpha_{\\langle t\\rangle}$.\n",
    "$$e_t = NN(h_t)$$\n",
    "\n",
    "![alpha_equation](imgs/alpha.jpg)\n",
    "\n",
    "Two steps:\n",
    "1. Define the layer objects (as global variables for examples).\n",
    "2. Call these objects when propagating the input.\n",
    "\n",
    "Please check the Keras documentation to make sure you understand what these layers are: [Dense()](https://keras.io/layers/core/#dense), [Activation()](https://keras.io/layers/core/#activation), [Dot()](https://keras.io/layers/merge/#dot).\n"
   ]
  },
  {
   "cell_type": "code",
   "execution_count": 17,
   "metadata": {},
   "outputs": [
    {
     "name": "stderr",
     "output_type": "stream",
     "text": [
      "WARNING: Logging before flag parsing goes to stderr.\n",
      "W0703 14:16:11.669065 21788 deprecation.py:506] From C:\\Users\\xiaoin.lu\\AppData\\Roaming\\Python\\Python37\\site-packages\\tensorflow\\python\\ops\\init_ops.py:1251: calling VarianceScaling.__init__ (from tensorflow.python.ops.init_ops) with dtype is deprecated and will be removed in a future version.\n",
      "Instructions for updating:\n",
      "Call initializer instance with the dtype argument instead of passing it to the constructor\n"
     ]
    }
   ],
   "source": [
    "# Defined shared layers as global variables\n",
    "densor1 = Dense(100, activation = \"tanh\",name=\"inter_energies\")\n",
    "densor2 = Dense(1, activation = \"relu\",name=\"final_energies\")\n",
    "activator = Activation('softmax', name='attention_weights') # We are using a custom softmax(axis = 1) loaded in this notebook\n",
    "dotor = Dot(axes = 1)"
   ]
  },
  {
   "cell_type": "code",
   "execution_count": 18,
   "metadata": {},
   "outputs": [],
   "source": [
    "# GRADED FUNCTION: one_step_attention\n",
    "\n",
    "def attention(h):\n",
    "    \"\"\"\n",
    "    Performs one step of attention: Outputs a context vector computed as a dot product of the attention weights\n",
    "    \"alphas\" and the hidden states \"h\" of the Bi-LSTM.\n",
    "    \n",
    "    Arguments:\n",
    "    h -- hidden state output of the Bi-LSTM, numpy-array of shape (m, Tx, 2*n_a)\n",
    "    \n",
    "    Returns:\n",
    "    context -- context vector, input of the next (post-attetion) BiLSTM cell\n",
    "    \"\"\"\n",
    "    # Use densor1 to propagate concat through a small fully-connected neural network to compute the \"intermediate energies\" variable e.\n",
    "    e = densor1(h)\n",
    "    # Use densor2 to propagate e through a small fully-connected neural network to compute the \"energies\" variable energies. (≈1 lines)\n",
    "    energies = densor2(e)\n",
    "    # Use \"activator\" on \"energies\" to compute the attention weights \"alphas\" (≈ 1 line)\n",
    "    alphas = activator(energies)\n",
    "    # Use dotor together with \"alphas\" and \"a\" to compute the context vector to be given to the next (post-attention) LSTM-cell (≈ 1 line)\n",
    "    context = dotor([alphas,h])\n",
    "    ### END CODE HERE ###\n",
    "    \n",
    "    return context"
   ]
  },
  {
   "cell_type": "markdown",
   "metadata": {},
   "source": [
    "### Extract word embeddings from the Glove"
   ]
  },
  {
   "cell_type": "code",
   "execution_count": 19,
   "metadata": {},
   "outputs": [
    {
     "data": {
      "text/plain": [
       "1193514"
      ]
     },
     "execution_count": 19,
     "metadata": {},
     "output_type": "execute_result"
    }
   ],
   "source": [
    "glove = dict()\n",
    "f = open(WV_PATH, encoding='utf8')\n",
    "\n",
    "for line in f:\n",
    "    values = line.split()\n",
    "    # char\n",
    "    word = values[0]\n",
    "    # vector value from index 1\n",
    "    coefs = np.asarray(values[1:], dtype='float32')\n",
    "    glove[word] = coefs\n",
    "f.close()\n",
    "len(glove)"
   ]
  },
  {
   "cell_type": "markdown",
   "metadata": {},
   "source": [
    "### Create a weight matrix"
   ]
  },
  {
   "cell_type": "code",
   "execution_count": 20,
   "metadata": {},
   "outputs": [],
   "source": [
    "embedding_matrix = np.zeros((VOCAB_SIZE, EMBED_DIM))\n",
    "for word, index in tokenizer.word_index.items():\n",
    "    if index > VOCAB_SIZE - 1:\n",
    "        break\n",
    "    else:\n",
    "        embedding_vector = glove.get(word)\n",
    "        if embedding_vector is not None:\n",
    "            embedding_matrix[index] = embedding_vector\n",
    "\n",
    "#embedding_matrix[:3]"
   ]
  },
  {
   "cell_type": "markdown",
   "metadata": {},
   "source": [
    "During the embedding generating,  we set trainable=False to prevent the weights from being updated during training\n",
    "more detail about using pre-trained word embeddings in a Keras model could refer to [here](https://blog.keras.io/using-pre-trained-word-embeddings-in-a-keras-model.html)"
   ]
  },
  {
   "cell_type": "markdown",
   "metadata": {},
   "source": [
    "By defaut I use (`adagrad`), and (`binary_crossentropy`)\n",
    "- The problem is a logistic regression one rathen than a linear one."
   ]
  },
  {
   "cell_type": "code",
   "execution_count": 21,
   "metadata": {},
   "outputs": [],
   "source": [
    "def train_model(model,batch_sz):\n",
    "    # Configures the model for training.\n",
    "    model.compile(loss='binary_crossentropy',\n",
    "              optimizer='adagrad',\n",
    "              metrics=['accuracy'])\n",
    "    # Train...\n",
    "    history = model.fit(seq_pad,\n",
    "                   train['label'],\n",
    "                   batch_sz,\n",
    "                   10,\n",
    "                   2,\n",
    "                   validation_split=0.2)\n",
    "    \n",
    "    return history"
   ]
  },
  {
   "cell_type": "markdown",
   "metadata": {},
   "source": [
    "We have prepared in advance our attention layer, embedding glove weights, configures of the model, now we could begin to build our model."
   ]
  },
  {
   "cell_type": "code",
   "execution_count": 22,
   "metadata": {},
   "outputs": [
    {
     "name": "stderr",
     "output_type": "stream",
     "text": [
      "W0703 14:17:39.392861 21788 deprecation.py:506] From C:\\Users\\xiaoin.lu\\AppData\\Roaming\\Python\\Python37\\site-packages\\tensorflow\\python\\keras\\initializers.py:119: calling RandomUniform.__init__ (from tensorflow.python.ops.init_ops) with dtype is deprecated and will be removed in a future version.\n",
      "Instructions for updating:\n",
      "Call initializer instance with the dtype argument instead of passing it to the constructor\n",
      "W0703 14:17:39.475638 21788 deprecation.py:506] From C:\\Users\\xiaoin.lu\\AppData\\Roaming\\Python\\Python37\\site-packages\\tensorflow\\python\\ops\\init_ops.py:97: calling GlorotUniform.__init__ (from tensorflow.python.ops.init_ops) with dtype is deprecated and will be removed in a future version.\n",
      "Instructions for updating:\n",
      "Call initializer instance with the dtype argument instead of passing it to the constructor\n",
      "W0703 14:17:39.477633 21788 deprecation.py:506] From C:\\Users\\xiaoin.lu\\AppData\\Roaming\\Python\\Python37\\site-packages\\tensorflow\\python\\ops\\init_ops.py:97: calling Orthogonal.__init__ (from tensorflow.python.ops.init_ops) with dtype is deprecated and will be removed in a future version.\n",
      "Instructions for updating:\n",
      "Call initializer instance with the dtype argument instead of passing it to the constructor\n",
      "W0703 14:17:39.478631 21788 deprecation.py:506] From C:\\Users\\xiaoin.lu\\AppData\\Roaming\\Python\\Python37\\site-packages\\tensorflow\\python\\ops\\init_ops.py:97: calling Zeros.__init__ (from tensorflow.python.ops.init_ops) with dtype is deprecated and will be removed in a future version.\n",
      "Instructions for updating:\n",
      "Call initializer instance with the dtype argument instead of passing it to the constructor\n",
      "W0703 14:17:39.737999 21788 deprecation.py:323] From C:\\Users\\xiaoin.lu\\AppData\\Roaming\\Python\\Python37\\site-packages\\tensorflow\\python\\keras\\backend.py:3794: add_dispatch_support.<locals>.wrapper (from tensorflow.python.ops.array_ops) is deprecated and will be removed in a future version.\n",
      "Instructions for updating:\n",
      "Use tf.where in 2.0, which has the same broadcast rule as np.where\n"
     ]
    },
    {
     "name": "stdout",
     "output_type": "stream",
     "text": [
      "Model: \"model\"\n",
      "__________________________________________________________________________________________________\n",
      "Layer (type)                    Output Shape         Param #     Connected to                     \n",
      "==================================================================================================\n",
      "input_1 (InputLayer)            [(None, 80)]         0                                            \n",
      "__________________________________________________________________________________________________\n",
      "embedding (Embedding)           (None, 80, 200)      2000200     input_1[0][0]                    \n",
      "__________________________________________________________________________________________________\n",
      "BiGRU (Bidirectional)           (None, 80, 400)      481200      embedding[0][0]                  \n",
      "__________________________________________________________________________________________________\n",
      "inter_energies (Dense)          (None, 80, 100)      40100       BiGRU[0][0]                      \n",
      "__________________________________________________________________________________________________\n",
      "final_energies (Dense)          (None, 80, 1)        101         inter_energies[0][0]             \n",
      "__________________________________________________________________________________________________\n",
      "attention_weights (Activation)  (None, 80, 1)        0           final_energies[0][0]             \n",
      "__________________________________________________________________________________________________\n",
      "dot (Dot)                       (None, 1, 400)       0           attention_weights[0][0]          \n",
      "                                                                 BiGRU[0][0]                      \n",
      "__________________________________________________________________________________________________\n",
      "compute_context (Dense)         (None, 1, 100)       40100       dot[0][0]                        \n",
      "__________________________________________________________________________________________________\n",
      "prediction (Dense)              (None, 1, 1)         101         compute_context[0][0]            \n",
      "__________________________________________________________________________________________________\n",
      "flatten (Flatten)               (None, 1)            0           prediction[0][0]                 \n",
      "==================================================================================================\n",
      "Total params: 2,561,802\n",
      "Trainable params: 561,602\n",
      "Non-trainable params: 2,000,200\n",
      "__________________________________________________________________________________________________\n"
     ]
    }
   ],
   "source": [
    "embedding_layer = Embedding(tokenizer.num_words, \n",
    "                            EMBED_DIM,\n",
    "                            input_length = MAXLEN,\n",
    "                            mask_zero=True,\n",
    "                            weights=[embedding_matrix],\n",
    "                            trainable=False,\n",
    "                            name=\"embedding\"\n",
    "                           )\n",
    "\n",
    "tweets_input = Input(shape=(MAXLEN,), dtype='int32')\n",
    "embedded_sequences = embedding_layer(tweets_input)\n",
    "\n",
    "hidden = Bidirectional(\n",
    "    GRU(200, \n",
    "        return_sequences=True,\n",
    "        recurrent_dropout=0.2,\n",
    "        activity_regularizer=REG_L2),\n",
    "    name=\"BiGRU\"\n",
    ")(embedded_sequences)\n",
    "\n",
    "context = attention(hidden)\n",
    "dense_1 = Dense(100,activation='tanh',name=\"compute_context\")(context)\n",
    "dense_2 = Flatten()(Dense(1, activation='sigmoid',name=\"prediction\")(dense_1))\n",
    "\n",
    "model_atten = Model(tweets_input, dense_2)\n",
    "#model_atten.name = \"BiGRU_atten\"\n",
    "\n",
    "model_atten.summary()"
   ]
  },
  {
   "cell_type": "code",
   "execution_count": 23,
   "metadata": {},
   "outputs": [
    {
     "name": "stdout",
     "output_type": "stream",
     "text": [
      "Train on 6336 samples, validate on 1584 samples\n"
     ]
    },
    {
     "name": "stderr",
     "output_type": "stream",
     "text": [
      "W0703 14:17:41.282405 21788 deprecation.py:506] From C:\\Users\\xiaoin.lu\\AppData\\Roaming\\Python\\Python37\\site-packages\\tensorflow\\python\\keras\\optimizer_v2\\adagrad.py:105: calling Constant.__init__ (from tensorflow.python.ops.init_ops) with dtype is deprecated and will be removed in a future version.\n",
      "Instructions for updating:\n",
      "Call initializer instance with the dtype argument instead of passing it to the constructor\n"
     ]
    },
    {
     "name": "stdout",
     "output_type": "stream",
     "text": [
      "Epoch 1/10\n",
      "6336/6336 - 29s - loss: 0.4599 - acc: 0.7872 - val_loss: 0.3292 - val_acc: 0.8624\n",
      "Epoch 2/10\n",
      "6336/6336 - 29s - loss: 0.3207 - acc: 0.8655 - val_loss: 0.3100 - val_acc: 0.8649\n",
      "Epoch 3/10\n",
      "6336/6336 - 32s - loss: 0.3010 - acc: 0.8723 - val_loss: 0.3004 - val_acc: 0.8706\n",
      "Epoch 4/10\n",
      "6336/6336 - 34s - loss: 0.2900 - acc: 0.8771 - val_loss: 0.2867 - val_acc: 0.8845\n",
      "Epoch 5/10\n",
      "6336/6336 - 37s - loss: 0.2786 - acc: 0.8827 - val_loss: 0.2924 - val_acc: 0.8845\n",
      "Epoch 6/10\n",
      "6336/6336 - 38s - loss: 0.2741 - acc: 0.8894 - val_loss: 0.2778 - val_acc: 0.8927\n",
      "Epoch 7/10\n",
      "6336/6336 - 40s - loss: 0.2661 - acc: 0.8936 - val_loss: 0.2748 - val_acc: 0.8895\n",
      "Epoch 8/10\n",
      "6336/6336 - 40s - loss: 0.2643 - acc: 0.8961 - val_loss: 0.2722 - val_acc: 0.8939\n",
      "Epoch 9/10\n",
      "6336/6336 - 39s - loss: 0.2620 - acc: 0.8973 - val_loss: 0.2746 - val_acc: 0.8914\n",
      "Epoch 10/10\n",
      "6336/6336 - 39s - loss: 0.2566 - acc: 0.8957 - val_loss: 0.2715 - val_acc: 0.8920\n"
     ]
    }
   ],
   "source": [
    "history = train_model(model_atten,512)"
   ]
  },
  {
   "cell_type": "code",
   "execution_count": 24,
   "metadata": {},
   "outputs": [
    {
     "data": {
      "image/png": "[encoded data removed]",
      "text/plain": [
       "<Figure size 432x288 with 1 Axes>"
      ]
     },
     "metadata": {
      "needs_background": "light"
     },
     "output_type": "display_data"
    },
    {
     "data": {
      "image/png": "[encoded data removed]",
      "text/plain": [
       "<Figure size 432x288 with 1 Axes>"
      ]
     },
     "metadata": {
      "needs_background": "light"
     },
     "output_type": "display_data"
    },
    {
     "data": {
      "text/plain": [
       "(None, None)"
      ]
     },
     "execution_count": 24,
     "metadata": {},
     "output_type": "execute_result"
    }
   ],
   "source": [
    "plot_graphs(history, 'acc'),plot_graphs(history, 'loss')"
   ]
  },
  {
   "cell_type": "code",
   "execution_count": 25,
   "metadata": {},
   "outputs": [
    {
     "name": "stdout",
     "output_type": "stream",
     "text": [
      "3000/3000 [==============================] - 5s 2ms/sample - loss: 0.4602 - acc: 0.7927\n",
      "Test Loss: 0.4602326480547587\n",
      "Test Accuracy: 0.7926666736602783\n"
     ]
    }
   ],
   "source": [
    "x_eval = token_pad(x_eval,True)\n",
    "# Evaluate the model on the test data using `evaluate`\n",
    "test_loss, test_acc = model_atten.evaluate(x_eval,y_eval,128)\n",
    "\n",
    "print('Test Loss: {}'.format(test_loss))\n",
    "print('Test Accuracy: {}'.format(test_acc))"
   ]
  },
  {
   "cell_type": "markdown",
   "metadata": {},
   "source": [
    "https://github.com/allenai/bilm-tf/issues/73"
   ]
  },
  {
   "cell_type": "code",
   "execution_count": 26,
   "metadata": {},
   "outputs": [],
   "source": [
    "# prediction\n",
    "def sample_predict(tweet,x_model):\n",
    "    predictions = ''\n",
    "    clean_sent = cleaning(tweet,True)\n",
    "    # noted that parameter [clean_sent], if use tokenizer.texts_to_sequences(clean_sent)\n",
    "    # the token will give different vector to each word, not a vector for one sentence!\n",
    "    token_tweet = tokenizer.texts_to_sequences([clean_sent])\n",
    "    token_tweet_pad = pad_sequences(token_tweet,maxlen=MAXLEN,padding='post')\n",
    "    result = x_model.predict(token_tweet_pad)\n",
    "    \n",
    "    if result < 0.5:\n",
    "        predictions = 'positive'\n",
    "    else:\n",
    "        predictions = 'negative'\n",
    "\n",
    "    return tweet,result,predictions"
   ]
  },
  {
   "cell_type": "code",
   "execution_count": 27,
   "metadata": {},
   "outputs": [],
   "source": [
    "sample_neg_1 = 'I waited for more than half of an hour for their stupid support!'\n",
    "sample_neg = 'stupid'\n",
    "sample_pos = 'I love this!'"
   ]
  },
  {
   "cell_type": "code",
   "execution_count": 28,
   "metadata": {},
   "outputs": [
    {
     "name": "stdout",
     "output_type": "stream",
     "text": [
      "('I love this!', array([[0.03159199]], dtype=float32), 'positive')\n",
      "('stupid', array([[0.3099063]], dtype=float32), 'positive')\n",
      "('I waited for more than half of an hour for their stupid support!', array([[0.8105397]], dtype=float32), 'negative')\n"
     ]
    }
   ],
   "source": [
    "pred_pos = sample_predict(sample_pos,model_atten)\n",
    "pred_neg = sample_predict(sample_neg,model_atten)\n",
    "pred_neg_1 = sample_predict(sample_neg_1,model_atten)\n",
    "print(f'{pred_pos}\\n{pred_neg}\\n{pred_neg_1}')"
   ]
  },
  {
   "cell_type": "markdown",
   "metadata": {},
   "source": [
    "The predict result isn't quite correct"
   ]
  }
 ],
 "metadata": {
  "kernelspec": {
   "display_name": "Python 3",
   "language": "python",
   "name": "python3"
  },
  "language_info": {
   "codemirror_mode": {
    "name": "ipython",
    "version": 3
   },
   "file_extension": ".py",
   "mimetype": "text/x-python",
   "name": "python",
   "nbconvert_exporter": "python",
   "pygments_lexer": "ipython3",
   "version": "3.7.3"
  }
 },
 "nbformat": 4,
 "nbformat_minor": 2
}
